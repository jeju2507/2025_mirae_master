{
  "nbformat": 4,
  "nbformat_minor": 0,
  "metadata": {
    "colab": {
      "provenance": [],
      "include_colab_link": true
    },
    "kernelspec": {
      "name": "python3",
      "display_name": "Python 3"
    },
    "language_info": {
      "name": "python"
    }
  },
  "cells": [
    {
      "cell_type": "markdown",
      "metadata": {
        "id": "view-in-github",
        "colab_type": "text"
      },
      "source": [
        "<a href=\"https://colab.research.google.com/github/jeju2507/2025_mirae_master/blob/main/1%EC%9D%BC%EC%B0%A8_%EC%8B%A4%EC%8A%B5_%ED%8C%8C%EC%9D%B4%EC%8D%AC%EA%B8%B0%EC%B4%88%EB%8B%A4%EC%A7%80%EA%B8%B0.ipynb\" target=\"_parent\"><img src=\"https://colab.research.google.com/assets/colab-badge.svg\" alt=\"Open In Colab\"/></a>"
      ]
    },
    {
      "cell_type": "markdown",
      "source": [
        "# 1일차 파이썬 기초 다지기"
      ],
      "metadata": {
        "id": "pT30-HxAFE3A"
      }
    },
    {
      "cell_type": "markdown",
      "source": [
        "## 1.Github 연결"
      ],
      "metadata": {
        "id": "5kJELzYBFUYg"
      }
    },
    {
      "cell_type": "markdown",
      "source": [
        "### 1-1.Github 연결방법"
      ],
      "metadata": {
        "id": "yfQ4F7r0Fi_Y"
      }
    },
    {
      "cell_type": "markdown",
      "source": [
        "## 2.기초 문법 확인"
      ],
      "metadata": {
        "id": "-viUwF8XFZKl"
      }
    },
    {
      "cell_type": "markdown",
      "source": [
        "### 2-1.설치된 라이브러리 확인방법"
      ],
      "metadata": {
        "id": "qu2wm81yFvdj"
      }
    },
    {
      "cell_type": "code",
      "execution_count": null,
      "metadata": {
        "colab": {
          "base_uri": "https://localhost:8080/"
        },
        "collapsed": true,
        "id": "d9wijHWNEat3",
        "outputId": "76144865-03e6-422a-e8a7-4c43f12ee248"
      },
      "outputs": [
        {
          "output_type": "stream",
          "name": "stdout",
          "text": [
            "Package                               Version\n",
            "------------------------------------- -------------------\n",
            "absl-py                               1.4.0\n",
            "accelerate                            1.9.0\n",
            "aiofiles                              24.1.0\n",
            "aiohappyeyeballs                      2.6.1\n",
            "aiohttp                               3.11.15\n",
            "aiosignal                             1.4.0\n",
            "alabaster                             1.0.0\n",
            "albucore                              0.0.24\n",
            "albumentations                        2.0.8\n",
            "ale-py                                0.11.2\n",
            "altair                                5.5.0\n",
            "annotated-types                       0.7.0\n",
            "antlr4-python3-runtime                4.9.3\n",
            "anyio                                 4.9.0\n",
            "argon2-cffi                           25.1.0\n",
            "argon2-cffi-bindings                  21.2.0\n",
            "array_record                          0.7.2\n",
            "arviz                                 0.21.0\n",
            "astropy                               7.1.0\n",
            "astropy-iers-data                     0.2025.7.14.0.40.29\n",
            "astunparse                            1.6.3\n",
            "atpublic                              5.1\n",
            "attrs                                 25.3.0\n",
            "audioread                             3.0.1\n",
            "autograd                              1.8.0\n",
            "babel                                 2.17.0\n",
            "backcall                              0.2.0\n",
            "backports.tarfile                     1.2.0\n",
            "beautifulsoup4                        4.13.4\n",
            "betterproto                           2.0.0b6\n",
            "bigframes                             2.11.0\n",
            "bigquery-magics                       0.10.1\n",
            "bleach                                6.2.0\n",
            "blinker                               1.9.0\n",
            "blis                                  1.3.0\n",
            "blobfile                              3.0.0\n",
            "blosc2                                3.6.1\n",
            "bokeh                                 3.7.3\n",
            "Bottleneck                            1.4.2\n",
            "bqplot                                0.12.45\n",
            "branca                                0.8.1\n",
            "Brotli                                1.1.0\n",
            "build                                 1.2.2.post1\n",
            "CacheControl                          0.14.3\n",
            "cachetools                            5.5.2\n",
            "catalogue                             2.0.10\n",
            "certifi                               2025.7.14\n",
            "cffi                                  1.17.1\n",
            "chardet                               5.2.0\n",
            "charset-normalizer                    3.4.2\n",
            "chex                                  0.1.89\n",
            "clarabel                              0.11.1\n",
            "click                                 8.2.1\n",
            "cloudpathlib                          0.21.1\n",
            "cloudpickle                           3.1.1\n",
            "cmake                                 3.31.6\n",
            "cmdstanpy                             1.2.5\n",
            "colorcet                              3.1.0\n",
            "colorlover                            0.3.0\n",
            "colour                                0.1.5\n",
            "community                             1.0.0b1\n",
            "confection                            0.1.5\n",
            "cons                                  0.4.7\n",
            "contourpy                             1.3.2\n",
            "cramjam                               2.10.0\n",
            "cryptography                          43.0.3\n",
            "cuda-python                           12.6.2.post1\n",
            "cudf-cu12                             25.6.0\n",
            "cudf-polars-cu12                      25.6.0\n",
            "cufflinks                             0.17.3\n",
            "cuml-cu12                             25.6.0\n",
            "cupy-cuda12x                          13.3.0\n",
            "curl_cffi                             0.12.0\n",
            "cuvs-cu12                             25.6.1\n",
            "cvxopt                                1.3.2\n",
            "cvxpy                                 1.6.7\n",
            "cycler                                0.12.1\n",
            "cyipopt                               1.5.0\n",
            "cymem                                 2.0.11\n",
            "Cython                                3.0.12\n",
            "dask                                  2025.5.0\n",
            "dask-cuda                             25.6.0\n",
            "dask-cudf-cu12                        25.6.0\n",
            "dataproc-spark-connect                0.8.2\n",
            "datascience                           0.17.6\n",
            "datasets                              2.14.4\n",
            "db-dtypes                             1.4.3\n",
            "dbus-python                           1.2.18\n",
            "debugpy                               1.8.15\n",
            "decorator                             4.4.2\n",
            "defusedxml                            0.7.1\n",
            "diffusers                             0.34.0\n",
            "dill                                  0.3.7\n",
            "distributed                           2025.5.0\n",
            "distributed-ucxx-cu12                 0.44.0\n",
            "distro                                1.9.0\n",
            "dlib                                  19.24.6\n",
            "dm-tree                               0.1.9\n",
            "docstring_parser                      0.16\n",
            "docutils                              0.21.2\n",
            "dopamine_rl                           4.1.2\n",
            "duckdb                                1.2.2\n",
            "earthengine-api                       1.5.24\n",
            "easydict                              1.13\n",
            "editdistance                          0.8.1\n",
            "eerepr                                0.1.2\n",
            "einops                                0.8.1\n",
            "en_core_web_sm                        3.8.0\n",
            "entrypoints                           0.4\n",
            "et_xmlfile                            2.0.0\n",
            "etils                                 1.13.0\n",
            "etuples                               0.3.10\n",
            "Farama-Notifications                  0.0.4\n",
            "fastai                                2.7.19\n",
            "fastapi                               0.116.1\n",
            "fastcore                              1.7.29\n",
            "fastdownload                          0.0.7\n",
            "fastjsonschema                        2.21.1\n",
            "fastprogress                          1.0.3\n",
            "fastrlock                             0.8.3\n",
            "ffmpy                                 0.6.0\n",
            "filelock                              3.18.0\n",
            "firebase-admin                        6.9.0\n",
            "Flask                                 3.1.1\n",
            "flatbuffers                           25.2.10\n",
            "flax                                  0.10.6\n",
            "folium                                0.19.7\n",
            "fonttools                             4.59.0\n",
            "frozendict                            2.4.6\n",
            "frozenlist                            1.7.0\n",
            "fsspec                                2025.3.2\n",
            "future                                1.0.0\n",
            "gast                                  0.6.0\n",
            "gcsfs                                 2025.3.2\n",
            "GDAL                                  3.8.4\n",
            "gdown                                 5.2.0\n",
            "geemap                                0.35.3\n",
            "geocoder                              1.38.1\n",
            "geographiclib                         2.0\n",
            "geopandas                             1.0.1\n",
            "geopy                                 2.4.1\n",
            "gin-config                            0.5.0\n",
            "gitdb                                 4.0.12\n",
            "GitPython                             3.1.44\n",
            "glob2                                 0.7\n",
            "google                                2.0.3\n",
            "google-ai-generativelanguage          0.6.15\n",
            "google-api-core                       2.25.1\n",
            "google-api-python-client              2.176.0\n",
            "google-auth                           2.38.0\n",
            "google-auth-httplib2                  0.2.0\n",
            "google-auth-oauthlib                  1.2.2\n",
            "google-cloud-aiplatform               1.104.0\n",
            "google-cloud-bigquery                 3.35.0\n",
            "google-cloud-bigquery-connection      1.18.3\n",
            "google-cloud-bigquery-storage         2.32.0\n",
            "google-cloud-core                     2.4.3\n",
            "google-cloud-dataproc                 5.21.0\n",
            "google-cloud-datastore                2.21.0\n",
            "google-cloud-firestore                2.21.0\n",
            "google-cloud-functions                1.20.4\n",
            "google-cloud-iam                      2.19.1\n",
            "google-cloud-language                 2.17.2\n",
            "google-cloud-resource-manager         1.14.2\n",
            "google-cloud-spanner                  3.55.0\n",
            "google-cloud-storage                  2.19.0\n",
            "google-cloud-translate                3.21.1\n",
            "google-colab                          1.0.0\n",
            "google-crc32c                         1.7.1\n",
            "google-genai                          1.26.0\n",
            "google-generativeai                   0.8.5\n",
            "google-pasta                          0.2.0\n",
            "google-resumable-media                2.7.2\n",
            "googleapis-common-protos              1.70.0\n",
            "googledrivedownloader                 1.1.0\n",
            "gradio                                5.37.0\n",
            "gradio_client                         1.10.4\n",
            "graphviz                              0.21\n",
            "greenlet                              3.2.3\n",
            "groovy                                0.1.2\n",
            "grpc-google-iam-v1                    0.14.2\n",
            "grpc-interceptor                      0.15.4\n",
            "grpcio                                1.73.1\n",
            "grpcio-status                         1.71.2\n",
            "grpclib                               0.4.8\n",
            "gspread                               6.2.1\n",
            "gspread-dataframe                     4.0.0\n",
            "gym                                   0.25.2\n",
            "gym-notices                           0.0.8\n",
            "gymnasium                             1.2.0\n",
            "h11                                   0.16.0\n",
            "h2                                    4.2.0\n",
            "h5netcdf                              1.6.3\n",
            "h5py                                  3.14.0\n",
            "hdbscan                               0.8.40\n",
            "hf_transfer                           0.1.9\n",
            "hf-xet                                1.1.5\n",
            "highspy                               1.11.0\n",
            "holidays                              0.76\n",
            "holoviews                             1.21.0\n",
            "hpack                                 4.1.0\n",
            "html5lib                              1.1\n",
            "httpcore                              1.0.9\n",
            "httpimport                            1.4.1\n",
            "httplib2                              0.22.0\n",
            "httpx                                 0.28.1\n",
            "huggingface-hub                       0.33.4\n",
            "humanize                              4.12.3\n",
            "hyperframe                            6.1.0\n",
            "hyperopt                              0.2.7\n",
            "ibis-framework                        9.5.0\n",
            "idna                                  3.10\n",
            "imageio                               2.37.0\n",
            "imageio-ffmpeg                        0.6.0\n",
            "imagesize                             1.4.1\n",
            "imbalanced-learn                      0.13.0\n",
            "immutabledict                         4.2.1\n",
            "importlib_metadata                    8.7.0\n",
            "importlib_resources                   6.5.2\n",
            "imutils                               0.5.4\n",
            "inflect                               7.5.0\n",
            "iniconfig                             2.1.0\n",
            "intel-cmplr-lib-ur                    2025.2.0\n",
            "intel-openmp                          2025.2.0\n",
            "ipyevents                             2.0.2\n",
            "ipyfilechooser                        0.6.0\n",
            "ipykernel                             6.17.1\n",
            "ipyleaflet                            0.20.0\n",
            "ipyparallel                           8.8.0\n",
            "ipython                               7.34.0\n",
            "ipython-genutils                      0.2.0\n",
            "ipython-sql                           0.5.0\n",
            "ipytree                               0.2.2\n",
            "ipywidgets                            7.7.1\n",
            "itsdangerous                          2.2.0\n",
            "jaraco.classes                        3.4.0\n",
            "jaraco.context                        6.0.1\n",
            "jaraco.functools                      4.2.1\n",
            "jax                                   0.5.2\n",
            "jax-cuda12-pjrt                       0.5.1\n",
            "jax-cuda12-plugin                     0.5.1\n",
            "jaxlib                                0.5.1\n",
            "jeepney                               0.9.0\n",
            "jieba                                 0.42.1\n",
            "Jinja2                                3.1.6\n",
            "jiter                                 0.10.0\n",
            "joblib                                1.5.1\n",
            "jsonpatch                             1.33\n",
            "jsonpickle                            4.1.1\n",
            "jsonpointer                           3.0.0\n",
            "jsonschema                            4.24.1\n",
            "jsonschema-specifications             2025.4.1\n",
            "jupyter-client                        6.1.12\n",
            "jupyter-console                       6.1.0\n",
            "jupyter_core                          5.8.1\n",
            "jupyter_kernel_gateway                2.5.2\n",
            "jupyter-leaflet                       0.20.0\n",
            "jupyter-server                        1.16.0\n",
            "jupyterlab_pygments                   0.3.0\n",
            "jupyterlab_widgets                    3.0.15\n",
            "jupytext                              1.17.2\n",
            "kaggle                                1.7.4.5\n",
            "kagglehub                             0.3.12\n",
            "keras                                 3.8.0\n",
            "keras-hub                             0.18.1\n",
            "keras-nlp                             0.18.1\n",
            "keyring                               25.6.0\n",
            "keyrings.google-artifactregistry-auth 1.1.2\n",
            "kiwisolver                            1.4.8\n",
            "langchain                             0.3.26\n",
            "langchain-core                        0.3.69\n",
            "langchain-text-splitters              0.3.8\n",
            "langcodes                             3.5.0\n",
            "langsmith                             0.4.7\n",
            "language_data                         1.3.0\n",
            "launchpadlib                          1.10.16\n",
            "lazr.restfulclient                    0.14.4\n",
            "lazr.uri                              1.0.6\n",
            "lazy_loader                           0.4\n",
            "libclang                              18.1.1\n",
            "libcudf-cu12                          25.6.0\n",
            "libcugraph-cu12                       25.6.0\n",
            "libcuml-cu12                          25.6.0\n",
            "libcuvs-cu12                          25.6.1\n",
            "libkvikio-cu12                        25.6.0\n",
            "libpysal                              4.13.0\n",
            "libraft-cu12                          25.6.0\n",
            "librmm-cu12                           25.6.0\n",
            "librosa                               0.11.0\n",
            "libucx-cu12                           1.18.1\n",
            "libucxx-cu12                          0.44.0\n",
            "lightgbm                              4.5.0\n",
            "linkify-it-py                         2.0.3\n",
            "llvmlite                              0.43.0\n",
            "locket                                1.0.0\n",
            "logical-unification                   0.4.6\n",
            "lxml                                  5.4.0\n",
            "Mako                                  1.1.3\n",
            "marisa-trie                           1.2.1\n",
            "Markdown                              3.8.2\n",
            "markdown-it-py                        3.0.0\n",
            "MarkupSafe                            3.0.2\n",
            "matplotlib                            3.10.0\n",
            "matplotlib-inline                     0.1.7\n",
            "matplotlib-venn                       1.1.2\n",
            "mdit-py-plugins                       0.4.2\n",
            "mdurl                                 0.1.2\n",
            "miniKanren                            1.0.3\n",
            "missingno                             0.5.2\n",
            "mistune                               3.1.3\n",
            "mizani                                0.13.5\n",
            "mkl                                   2025.0.1\n",
            "ml-dtypes                             0.4.1\n",
            "mlxtend                               0.23.4\n",
            "more-itertools                        10.7.0\n",
            "moviepy                               1.0.3\n",
            "mpmath                                1.3.0\n",
            "msgpack                               1.1.1\n",
            "multidict                             6.6.3\n",
            "multipledispatch                      1.0.0\n",
            "multiprocess                          0.70.15\n",
            "multitasking                          0.0.11\n",
            "murmurhash                            1.0.13\n",
            "music21                               9.3.0\n",
            "namex                                 0.1.0\n",
            "narwhals                              1.47.1\n",
            "natsort                               8.4.0\n",
            "nbclassic                             1.3.1\n",
            "nbclient                              0.10.2\n",
            "nbconvert                             7.16.6\n",
            "nbformat                              5.10.4\n",
            "ndindex                               1.10.0\n",
            "nest-asyncio                          1.6.0\n",
            "networkx                              3.5\n",
            "nibabel                               5.3.2\n",
            "nltk                                  3.9.1\n",
            "notebook                              6.5.7\n",
            "notebook_shim                         0.2.4\n",
            "numba                                 0.60.0\n",
            "numba-cuda                            0.11.0\n",
            "numexpr                               2.11.0\n",
            "numpy                                 2.0.2\n",
            "nvidia-cublas-cu12                    12.5.3.2\n",
            "nvidia-cuda-cupti-cu12                12.5.82\n",
            "nvidia-cuda-nvcc-cu12                 12.5.82\n",
            "nvidia-cuda-nvrtc-cu12                12.5.82\n",
            "nvidia-cuda-runtime-cu12              12.5.82\n",
            "nvidia-cudnn-cu12                     9.3.0.75\n",
            "nvidia-cufft-cu12                     11.2.3.61\n",
            "nvidia-curand-cu12                    10.3.6.82\n",
            "nvidia-cusolver-cu12                  11.6.3.83\n",
            "nvidia-cusparse-cu12                  12.5.1.3\n",
            "nvidia-cusparselt-cu12                0.6.2\n",
            "nvidia-ml-py                          12.575.51\n",
            "nvidia-nccl-cu12                      2.21.5\n",
            "nvidia-nvjitlink-cu12                 12.5.82\n",
            "nvidia-nvtx-cu12                      12.4.127\n",
            "nvtx                                  0.2.12\n",
            "nx-cugraph-cu12                       25.6.0\n",
            "oauth2client                          4.1.3\n",
            "oauthlib                              3.3.1\n",
            "omegaconf                             2.3.0\n",
            "openai                                1.97.0\n",
            "opencv-contrib-python                 4.11.0.86\n",
            "opencv-python                         4.11.0.86\n",
            "opencv-python-headless                4.12.0.88\n",
            "openpyxl                              3.1.5\n",
            "opt_einsum                            3.4.0\n",
            "optax                                 0.2.5\n",
            "optree                                0.16.0\n",
            "orbax-checkpoint                      0.11.16\n",
            "orjson                                3.11.0\n",
            "osqp                                  1.0.4\n",
            "packaging                             25.0\n",
            "pandas                                2.2.2\n",
            "pandas-datareader                     0.10.0\n",
            "pandas-gbq                            0.29.2\n",
            "pandas-stubs                          2.2.2.240909\n",
            "pandocfilters                         1.5.1\n",
            "panel                                 1.7.4\n",
            "param                                 2.2.1\n",
            "parso                                 0.8.4\n",
            "parsy                                 2.1\n",
            "partd                                 1.4.2\n",
            "pathlib                               1.0.1\n",
            "patsy                                 1.0.1\n",
            "peewee                                3.18.2\n",
            "peft                                  0.16.0\n",
            "pexpect                               4.9.0\n",
            "pickleshare                           0.7.5\n",
            "pillow                                11.2.1\n",
            "pip                                   24.1.2\n",
            "platformdirs                          4.3.8\n",
            "plotly                                5.24.1\n",
            "plotnine                              0.14.6\n",
            "pluggy                                1.6.0\n",
            "ply                                   3.11\n",
            "polars                                1.25.0\n",
            "pooch                                 1.8.2\n",
            "portpicker                            1.5.2\n",
            "preshed                               3.0.10\n",
            "prettytable                           3.16.0\n",
            "proglog                               0.1.12\n",
            "progressbar2                          4.5.0\n",
            "prometheus_client                     0.22.1\n",
            "promise                               2.3\n",
            "prompt_toolkit                        3.0.51\n",
            "propcache                             0.3.2\n",
            "prophet                               1.1.7\n",
            "proto-plus                            1.26.1\n",
            "protobuf                              5.29.5\n",
            "psutil                                5.9.5\n",
            "psycopg2                              2.9.10\n",
            "ptyprocess                            0.7.0\n",
            "py-cpuinfo                            9.0.0\n",
            "py4j                                  0.10.9.7\n",
            "pyarrow                               18.1.0\n",
            "pyasn1                                0.6.1\n",
            "pyasn1_modules                        0.4.2\n",
            "pycairo                               1.28.0\n",
            "pycocotools                           2.0.10\n",
            "pycparser                             2.22\n",
            "pycryptodomex                         3.23.0\n",
            "pydantic                              2.11.7\n",
            "pydantic_core                         2.33.2\n",
            "pydata-google-auth                    1.9.1\n",
            "pydot                                 3.0.4\n",
            "pydotplus                             2.0.2\n",
            "PyDrive                               1.3.1\n",
            "PyDrive2                              1.21.3\n",
            "pydub                                 0.25.1\n",
            "pyerfa                                2.0.1.5\n",
            "pygame                                2.6.1\n",
            "pygit2                                1.18.0\n",
            "Pygments                              2.19.2\n",
            "PyGObject                             3.42.0\n",
            "PyJWT                                 2.10.1\n",
            "pylibcudf-cu12                        25.6.0\n",
            "pylibcugraph-cu12                     25.6.0\n",
            "pylibraft-cu12                        25.6.0\n",
            "pymc                                  5.24.0\n",
            "pymystem3                             0.2.0\n",
            "pynndescent                           0.5.13\n",
            "pynvjitlink-cu12                      0.7.0\n",
            "pynvml                                12.0.0\n",
            "pyogrio                               0.11.0\n",
            "pyomo                                 6.9.2\n",
            "PyOpenGL                              3.1.9\n",
            "pyOpenSSL                             24.2.1\n",
            "pyparsing                             3.2.3\n",
            "pyperclip                             1.9.0\n",
            "pyproj                                3.7.1\n",
            "pyproject_hooks                       1.2.0\n",
            "pyshp                                 2.3.1\n",
            "PySocks                               1.7.1\n",
            "pyspark                               3.5.1\n",
            "pytensor                              2.31.7\n",
            "pytest                                8.3.5\n",
            "python-apt                            0.0.0\n",
            "python-box                            7.3.2\n",
            "python-dateutil                       2.9.0.post0\n",
            "python-louvain                        0.16\n",
            "python-multipart                      0.0.20\n",
            "python-slugify                        8.0.4\n",
            "python-snappy                         0.7.3\n",
            "python-utils                          3.9.1\n",
            "pytz                                  2025.2\n",
            "pyviz_comms                           3.0.6\n",
            "PyWavelets                            1.8.0\n",
            "PyYAML                                6.0.2\n",
            "pyzmq                                 24.0.1\n",
            "raft-dask-cu12                        25.6.0\n",
            "rapids-dask-dependency                25.6.0\n",
            "rapids-logger                         0.1.1\n",
            "ratelim                               0.1.6\n",
            "referencing                           0.36.2\n",
            "regex                                 2024.11.6\n",
            "requests                              2.32.3\n",
            "requests-oauthlib                     2.0.0\n",
            "requests-toolbelt                     1.0.0\n",
            "requirements-parser                   0.9.0\n",
            "rich                                  13.9.4\n",
            "rmm-cu12                              25.6.0\n",
            "roman-numerals-py                     3.1.0\n",
            "rpds-py                               0.26.0\n",
            "rpy2                                  3.5.17\n",
            "rsa                                   4.9.1\n",
            "ruff                                  0.12.4\n",
            "safehttpx                             0.1.6\n",
            "safetensors                           0.5.3\n",
            "scikit-image                          0.25.2\n",
            "scikit-learn                          1.6.1\n",
            "scipy                                 1.15.3\n",
            "scooby                                0.10.1\n",
            "scs                                   3.2.7.post2\n",
            "seaborn                               0.13.2\n",
            "SecretStorage                         3.3.3\n",
            "semantic-version                      2.10.0\n",
            "Send2Trash                            1.8.3\n",
            "sentence-transformers                 4.1.0\n",
            "sentencepiece                         0.2.0\n",
            "sentry-sdk                            2.33.0\n",
            "setuptools                            75.2.0\n",
            "shap                                  0.48.0\n",
            "shapely                               2.1.1\n",
            "shellingham                           1.5.4\n",
            "simple-parsing                        0.1.7\n",
            "simplejson                            3.20.1\n",
            "simsimd                               6.5.0\n",
            "six                                   1.17.0\n",
            "sklearn-compat                        0.1.3\n",
            "sklearn-pandas                        2.2.0\n",
            "slicer                                0.0.8\n",
            "smart_open                            7.3.0.post1\n",
            "smmap                                 5.0.2\n",
            "sniffio                               1.3.1\n",
            "snowballstemmer                       3.0.1\n",
            "sortedcontainers                      2.4.0\n",
            "soundfile                             0.13.1\n",
            "soupsieve                             2.7\n",
            "soxr                                  0.5.0.post1\n",
            "spacy                                 3.8.7\n",
            "spacy-legacy                          3.0.12\n",
            "spacy-loggers                         1.0.5\n",
            "spanner-graph-notebook                1.1.7\n",
            "Sphinx                                8.2.3\n",
            "sphinxcontrib-applehelp               2.0.0\n",
            "sphinxcontrib-devhelp                 2.0.0\n",
            "sphinxcontrib-htmlhelp                2.1.0\n",
            "sphinxcontrib-jsmath                  1.0.1\n",
            "sphinxcontrib-qthelp                  2.0.0\n",
            "sphinxcontrib-serializinghtml         2.0.0\n",
            "SQLAlchemy                            2.0.41\n",
            "sqlglot                               25.20.2\n",
            "sqlparse                              0.5.3\n",
            "srsly                                 2.5.1\n",
            "stanio                                0.5.1\n",
            "starlette                             0.47.1\n",
            "statsmodels                           0.14.5\n",
            "stringzilla                           3.12.5\n",
            "stumpy                                1.13.0\n",
            "sympy                                 1.13.1\n",
            "tables                                3.10.2\n",
            "tabulate                              0.9.0\n",
            "tbb                                   2022.2.0\n",
            "tblib                                 3.1.0\n",
            "tcmlib                                1.4.0\n",
            "tenacity                              8.5.0\n",
            "tensorboard                           2.18.0\n",
            "tensorboard-data-server               0.7.2\n",
            "tensorflow                            2.18.0\n",
            "tensorflow-datasets                   4.9.9\n",
            "tensorflow_decision_forests           1.11.0\n",
            "tensorflow-hub                        0.16.1\n",
            "tensorflow-io-gcs-filesystem          0.37.1\n",
            "tensorflow-metadata                   1.17.2\n",
            "tensorflow-probability                0.25.0\n",
            "tensorflow-text                       2.18.1\n",
            "tensorstore                           0.1.74\n",
            "termcolor                             3.1.0\n",
            "terminado                             0.18.1\n",
            "text-unidecode                        1.3\n",
            "textblob                              0.19.0\n",
            "tf_keras                              2.18.0\n",
            "tf-slim                               1.1.0\n",
            "thinc                                 8.3.6\n",
            "threadpoolctl                         3.6.0\n",
            "tifffile                              2025.6.11\n",
            "tiktoken                              0.9.0\n",
            "timm                                  1.0.17\n",
            "tinycss2                              1.4.0\n",
            "tokenizers                            0.21.2\n",
            "toml                                  0.10.2\n",
            "tomlkit                               0.13.3\n",
            "toolz                                 0.12.1\n",
            "torch                                 2.6.0+cu124\n",
            "torchao                               0.10.0\n",
            "torchaudio                            2.6.0+cu124\n",
            "torchdata                             0.11.0\n",
            "torchsummary                          1.5.1\n",
            "torchtune                             0.6.1\n",
            "torchvision                           0.21.0+cu124\n",
            "tornado                               6.4.2\n",
            "tqdm                                  4.67.1\n",
            "traitlets                             5.7.1\n",
            "traittypes                            0.2.1\n",
            "transformers                          4.53.2\n",
            "treelite                              4.4.1\n",
            "treescope                             0.1.9\n",
            "triton                                3.2.0\n",
            "tsfresh                               0.21.0\n",
            "tweepy                                4.15.0\n",
            "typeguard                             4.4.4\n",
            "typer                                 0.16.0\n",
            "types-pytz                            2025.2.0.20250516\n",
            "types-setuptools                      80.9.0.20250529\n",
            "typing_extensions                     4.14.1\n",
            "typing-inspection                     0.4.1\n",
            "tzdata                                2025.2\n",
            "tzlocal                               5.3.1\n",
            "uc-micro-py                           1.0.3\n",
            "ucx-py-cu12                           0.44.0\n",
            "ucxx-cu12                             0.44.0\n",
            "umap-learn                            0.5.9.post2\n",
            "umf                                   0.11.0\n",
            "uritemplate                           4.2.0\n",
            "urllib3                               2.4.0\n",
            "uvicorn                               0.35.0\n",
            "vega-datasets                         0.9.0\n",
            "wadllib                               1.3.6\n",
            "wandb                                 0.21.0\n",
            "wasabi                                1.1.3\n",
            "wcwidth                               0.2.13\n",
            "weasel                                0.4.1\n",
            "webcolors                             24.11.1\n",
            "webencodings                          0.5.1\n",
            "websocket-client                      1.8.0\n",
            "websockets                            15.0.1\n",
            "Werkzeug                              3.1.3\n",
            "wheel                                 0.45.1\n",
            "widgetsnbextension                    3.6.10\n",
            "wordcloud                             1.9.4\n",
            "wrapt                                 1.17.2\n",
            "wurlitzer                             3.1.1\n",
            "xarray                                2025.3.1\n",
            "xarray-einstats                       0.9.1\n",
            "xgboost                               2.1.4\n",
            "xlrd                                  2.0.2\n",
            "xxhash                                3.5.0\n",
            "xyzservices                           2025.4.0\n",
            "yarl                                  1.20.1\n",
            "ydf                                   0.13.0\n",
            "yellowbrick                           1.5\n",
            "yfinance                              0.2.65\n",
            "zict                                  3.0.0\n",
            "zipp                                  3.23.0\n",
            "zstandard                             0.23.0\n"
          ]
        }
      ],
      "source": [
        "%pip list"
      ]
    },
    {
      "cell_type": "markdown",
      "source": [
        "### 2-2. 파이썬 버전 확인"
      ],
      "metadata": {
        "id": "UFjU2oqlpAzp"
      }
    },
    {
      "cell_type": "code",
      "source": [
        "# 파이썬 버전 확인\n",
        "import sys\n",
        "print(sys.version)"
      ],
      "metadata": {
        "colab": {
          "base_uri": "https://localhost:8080/"
        },
        "id": "CCtHsqqNpGHd",
        "outputId": "d94131b0-798a-4f4b-8c7f-dbde37578b98"
      },
      "execution_count": null,
      "outputs": [
        {
          "output_type": "stream",
          "name": "stdout",
          "text": [
            "3.11.13 (main, Jun  4 2025, 08:57:29) [GCC 11.4.0]\n"
          ]
        }
      ]
    },
    {
      "cell_type": "code",
      "source": [
        "# 파이썬 실행 파일 위치\n",
        "print(sys.executable)"
      ],
      "metadata": {
        "colab": {
          "base_uri": "https://localhost:8080/"
        },
        "id": "wCNfPbmLpLAb",
        "outputId": "61b4d1c5-b579-4419-b466-fef33884d950"
      },
      "execution_count": null,
      "outputs": [
        {
          "output_type": "stream",
          "name": "stdout",
          "text": [
            "/usr/bin/python3\n"
          ]
        }
      ]
    },
    {
      "cell_type": "markdown",
      "source": [
        "\n",
        "\n",
        "---\n",
        "\n"
      ],
      "metadata": {
        "id": "JhPuY01QwGsK"
      }
    },
    {
      "cell_type": "markdown",
      "source": [
        "## 3.AI가 만들어준 파이썬 기초 문법 예제\n",
        "- prompt:\n",
        "    비전공자가 파이썬 기초 문법을 2시간 만에 이해하려고 해. 파이썬 핵심 문법을 이해하기 위한 파이썬 핵심 예제 15개를 만들어줘.\n",
        "- link:\n",
        "    https://claude.ai/public/artifacts/973b0229-a753-4afc-9e3d-6281c6641ce5\n",
        "    "
      ],
      "metadata": {
        "id": "JvTPIqXwwHsq"
      }
    },
    {
      "cell_type": "markdown",
      "source": [
        "### 3-1. 변수와 기본 데이터 타입"
      ],
      "metadata": {
        "id": "mNYOgEOnwcZ7"
      }
    },
    {
      "cell_type": "code",
      "source": [
        "print(\"=== 1. 변수와 데이터 타입 ===\")\n",
        "\n",
        "# 다양한 데이터 타입의 변수 선언\n",
        "name = \"김철수\"         # 문자열 (string)\n",
        "age = 25                # 정수 (integer)\n",
        "height = 175.5          # 실수 (float)\n",
        "is_student = True       # 불리언 (boolean)\n",
        "\n",
        "print(f\"이름: {name}, 나이: {age}, 키: {height}cm, 학생여부: {is_student}\")\n",
        "print(f\"name의 타입: {type(name)}\")\n",
        "print()"
      ],
      "metadata": {
        "colab": {
          "base_uri": "https://localhost:8080/"
        },
        "id": "KlNxo7R6wNI1",
        "outputId": "ba7247fc-a320-4556-986b-44daa60eb86e"
      },
      "execution_count": null,
      "outputs": [
        {
          "output_type": "stream",
          "name": "stdout",
          "text": [
            "=== 1. 변수와 데이터 타입 ===\n",
            "이름: 김철수, 나이: 25, 키: 175.5cm, 학생여부: True\n",
            "name의 타입: <class 'str'>\n",
            "\n"
          ]
        }
      ]
    },
    {
      "cell_type": "markdown",
      "source": [
        "### 3-2. 문자열 다루기"
      ],
      "metadata": {
        "id": "ybGVS1d7xGEB"
      }
    },
    {
      "cell_type": "code",
      "source": [
        "print(\"=== 2. 문자열 다루기 ===\")\n",
        "\n",
        "message = \"  Hello, 파이썬!  \"\n",
        "print(f\"원본: '{message}'\")\n",
        "print(f\"공백제거: '{message.strip()}'\")\n",
        "print(f\"대문자: '{message.upper()}'\")\n",
        "print(f\"소문자: '{message.lower()}'\")\n",
        "print(f\"길이: {len(message.strip())}\")\n",
        "print(f\"'파이썬' 포함여부: {'파이썬' in message}\")\n",
        "print(message.upper() + message.lower())   # + 연산자는 붙여서 나열\n",
        "print('반짝' * 5)                           # * 연산자는 반복의 의미\n",
        "print()"
      ],
      "metadata": {
        "colab": {
          "base_uri": "https://localhost:8080/"
        },
        "id": "kBhfYCAzxIJE",
        "outputId": "76d7cfb4-bedf-4dec-ad29-a40a7ab19b8d"
      },
      "execution_count": null,
      "outputs": [
        {
          "output_type": "stream",
          "name": "stdout",
          "text": [
            "=== 2. 문자열 다루기 ===\n",
            "원본: '  Hello, 파이썬!  '\n",
            "공백제거: 'Hello, 파이썬!'\n",
            "대문자: '  HELLO, 파이썬!  '\n",
            "소문자: '  hello, 파이썬!  '\n",
            "길이: 11\n",
            "'파이썬' 포함여부: True\n",
            "  HELLO, 파이썬!    hello, 파이썬!  \n",
            "반짝반짝반짝반짝반짝\n",
            "\n"
          ]
        }
      ]
    },
    {
      "cell_type": "markdown",
      "source": [
        "### 3-3. 리스트 (배열)"
      ],
      "metadata": {
        "id": "zaOhk7z0yGjf"
      }
    },
    {
      "cell_type": "code",
      "source": [
        "print(\"=== 3. 리스트 사용법 ===\")\n",
        "\n",
        "# 쇼핑 목록 만들기\n",
        "shopping_list = [\"사과\", \"바나나\", \"우유\", \"빵\"]\n",
        "print(f\"쇼핑 목록: {shopping_list}\")\n",
        "\n",
        "# 리스트 조작\n",
        "shopping_list.append(\"계란\")        # 추가\n",
        "print(f\"계란 추가 후: {shopping_list}\")\n",
        "\n",
        "shopping_list.remove(\"바나나\")      # 제거\n",
        "print(f\"바나나 제거 후: {shopping_list}\")\n",
        "\n",
        "print(f\"첫 번째 아이템: {shopping_list[0]}\")\n",
        "print(f\"마지막 아이템: {shopping_list[-1]}\")\n",
        "print(f\"아이템 개수: {len(shopping_list)}\")\n",
        "print()"
      ],
      "metadata": {
        "id": "doW7E_CFyJzA"
      },
      "execution_count": null,
      "outputs": []
    },
    {
      "cell_type": "markdown",
      "source": [
        "#### 리스트에서 사용할 수 있는 메서드 목록"
      ],
      "metadata": {
        "id": "9di0Bu7QyduC"
      }
    },
    {
      "cell_type": "markdown",
      "metadata": {
        "id": "f0c5c9fc"
      },
      "source": [
        "## 파이썬 리스트(list) 자료형 메서드\n",
        "\n",
        "| 메서드             | 설명                                                              | 예시                                        |\n",
        "|--------------------|-------------------------------------------------------------------|---------------------------------------------|\n",
        "| `append(item)`     | 리스트의 끝에 `item`을 추가합니다.                                | `my_list.append(5)`                         |\n",
        "| `extend(iterable)` | 리스트의 끝에 다른 iterable(리스트, 튜플 등)의 모든 항목을 추가합니다. | `my_list.extend([6, 7])`                    |\n",
        "| `insert(index, item)`| 지정된 `index` 위치에 `item`을 삽입합니다.                        | `my_list.insert(1, 10)`                     |\n",
        "| `remove(item)`     | 리스트에서 첫 번째로 나타나는 `item`을 제거합니다.                   | `my_list.remove(3)`                         |\n",
        "| `pop([index])`     | 지정된 `index`의 항목을 제거하고 반환합니다. `index`가 없으면 마지막 항목을 제거합니다. | `my_list.pop()` 또는 `my_list.pop(0)`      |\n",
        "| `clear()`          | 리스트의 모든 항목을 제거합니다.                                  | `my_list.clear()`                           |\n",
        "| `index(item, [start], [end])` | `item`이 처음 나타나는 인덱스를 반환합니다. 검색 범위를 지정할 수 있습니다. | `my_list.index(4)`                          |\n",
        "| `count(item)`      | 리스트에서 `item`이 나타나는 횟수를 반환합니다.                   | `my_list.count(2)`                          |\n",
        "| `sort(key=None, reverse=False)` | 리스트 항목을 오름차순으로 정렬합니다. `reverse=True`로 내림차순 정렬 가능. | `my_list.sort()` 또는 `my_list.sort(reverse=True)` |\n",
        "| `reverse()`        | 리스트 항목의 순서를 뒤집습니다.                                  | `my_list.reverse()`                         |\n",
        "| `copy()`           | 리스트의 얕은 복사본을 반환합니다.                                 | `new_list = my_list.copy()`               |"
      ]
    },
    {
      "cell_type": "markdown",
      "source": [
        "### 3-4. 딕셔너리 (사전)"
      ],
      "metadata": {
        "id": "IeQIQ-XX3pHv"
      }
    },
    {
      "cell_type": "code",
      "source": [
        "print(\"=== 4. 딕셔너리 사용법 ===\")\n",
        "\n",
        "# 학생 정보 저장\n",
        "student = {\n",
        "    \"이름\": \"이영희\",\n",
        "    \"나이\": 22,\n",
        "    \"전공\": \"경영학\",\n",
        "    \"학점\": 3.8\n",
        "}\n",
        "\n",
        "print(f\"학생 정보: {student}\")\n",
        "print(f\"이름: {student['이름']}\")\n",
        "print(f\"학점: {student.get('학점', '정보없음')}\")\n",
        "\n",
        "# 새로운 정보 추가\n",
        "student[\"학년\"] = 3\n",
        "print(f\"학년 추가 후: {student}\")\n",
        "print()"
      ],
      "metadata": {
        "colab": {
          "base_uri": "https://localhost:8080/"
        },
        "id": "OGOTzGin3rn3",
        "outputId": "dfd7f73c-cce1-4d79-ea44-ba6ce9d04ccf"
      },
      "execution_count": null,
      "outputs": [
        {
          "output_type": "stream",
          "name": "stdout",
          "text": [
            "=== 4. 딕셔너리 사용법 ===\n",
            "학생 정보: {'이름': '이영희', '나이': 22, '전공': '경영학', '학점': 3.8}\n",
            "이름: 이영희\n",
            "학점: 3.8\n",
            "학년 추가 후: {'이름': '이영희', '나이': 22, '전공': '경영학', '학점': 3.8, '학년': 3}\n",
            "\n"
          ]
        }
      ]
    },
    {
      "cell_type": "markdown",
      "source": [
        "### 3-5. 조건문 (if문)"
      ],
      "metadata": {
        "id": "uoNZY1B34t1e"
      }
    },
    {
      "cell_type": "code",
      "source": [
        "print(\"=== 5. 조건문 ===\")\n",
        "\n",
        "score = 85\n",
        "\n",
        "if score >= 90:\n",
        "    grade = \"A\"\n",
        "elif score >= 80:\n",
        "    grade = \"B\"\n",
        "elif score >= 70:\n",
        "    grade = \"C\"\n",
        "else:\n",
        "    grade = \"F\"\n",
        "\n",
        "print(f\"점수 {score}점의 학점: {grade}\")\n",
        "\n",
        "# 간단한 조건 확인\n",
        "weather = \"비\"\n",
        "if weather == \"비\":\n",
        "    print(\"우산을 챙기세요!\")\n",
        "else:\n",
        "    print(\"좋은 날씨네요!\")\n",
        "print()"
      ],
      "metadata": {
        "colab": {
          "base_uri": "https://localhost:8080/"
        },
        "id": "9qU5b1fb4uH2",
        "outputId": "6b9ae30c-8bf2-4840-fb96-60e8bc9537c5"
      },
      "execution_count": null,
      "outputs": [
        {
          "output_type": "stream",
          "name": "stdout",
          "text": [
            "=== 5. 조건문 ===\n",
            "점수 85점의 학점: B\n",
            "우산을 챙기세요!\n",
            "\n"
          ]
        }
      ]
    },
    {
      "cell_type": "markdown",
      "source": [
        "### 3-6. 반복문 - for문"
      ],
      "metadata": {
        "id": "ijEIW2fO4ulH"
      }
    },
    {
      "cell_type": "code",
      "source": [
        "print(\"=== 6. for문 반복 ===\")\n",
        "\n",
        "# 숫자 반복\n",
        "print(\"1부터 5까지:\")\n",
        "for i in range(1, 6):\n",
        "    print(f\"  {i}번째\")\n",
        "\n",
        "# 리스트 반복\n",
        "fruits = [\"사과\", \"배\", \"포도\", \"오렌지\"]\n",
        "print(\"과일 목록:\")\n",
        "for fruit in fruits:\n",
        "    print(f\"  - {fruit}\")\n",
        "\n",
        "# 딕셔너리 반복\n",
        "person = {\"이름\": \"박민수\", \"나이\": 30, \"직업\": \"개발자\"}\n",
        "print(\"개인정보:\")\n",
        "for key, value in person.items():\n",
        "    print(f\"  {key}: {value}\")\n",
        "print()"
      ],
      "metadata": {
        "colab": {
          "base_uri": "https://localhost:8080/"
        },
        "id": "kLgO43MN4u1g",
        "outputId": "47303c68-188a-4937-8c05-ab1f4759c9f4"
      },
      "execution_count": null,
      "outputs": [
        {
          "output_type": "stream",
          "name": "stdout",
          "text": [
            "=== 6. for문 반복 ===\n",
            "1부터 5까지:\n",
            "  1번째\n",
            "  2번째\n",
            "  3번째\n",
            "  4번째\n",
            "  5번째\n",
            "과일 목록:\n",
            "  - 사과\n",
            "  - 배\n",
            "  - 포도\n",
            "  - 오렌지\n",
            "개인정보:\n",
            "  이름: 박민수\n",
            "  나이: 30\n",
            "  직업: 개발자\n",
            "\n"
          ]
        }
      ]
    },
    {
      "cell_type": "code",
      "source": [
        "for i in range(1,101,3) :\n",
        "    print(i, end=' ')"
      ],
      "metadata": {
        "colab": {
          "base_uri": "https://localhost:8080/"
        },
        "id": "V4Myu8Gj5Zhk",
        "outputId": "68fbb5be-e655-4d97-bbc4-8f4c7f62a0af"
      },
      "execution_count": null,
      "outputs": [
        {
          "output_type": "stream",
          "name": "stdout",
          "text": [
            "1 4 7 10 13 16 19 22 25 28 31 34 37 40 43 46 49 52 55 58 61 64 67 70 73 76 79 82 85 88 91 94 97 100 "
          ]
        }
      ]
    },
    {
      "cell_type": "markdown",
      "source": [
        "### 3-7. 반복문 - while문"
      ],
      "metadata": {
        "id": "LIlE-Wc57Fp0"
      }
    },
    {
      "cell_type": "code",
      "source": [
        "print(\"=== 7. while문 반복 ===\")\n",
        "\n",
        "# 카운트다운\n",
        "count = 5\n",
        "print(\"카운트다운 시작:\")\n",
        "while count > 0:\n",
        "    print(f\"  {count}...\")\n",
        "    count -= 1  # count = count - 1\n",
        "print(\"  발사!\")\n",
        "print()"
      ],
      "metadata": {
        "colab": {
          "base_uri": "https://localhost:8080/"
        },
        "id": "AEV-l29h7FyT",
        "outputId": "8c3fa7c8-1e94-425b-c63d-68bc29c40066"
      },
      "execution_count": null,
      "outputs": [
        {
          "output_type": "stream",
          "name": "stdout",
          "text": [
            "=== 7. while문 반복 ===\n",
            "카운트다운 시작:\n",
            "  5...\n",
            "  4...\n",
            "  3...\n",
            "  2...\n",
            "  1...\n",
            "  발사!\n",
            "\n"
          ]
        }
      ]
    },
    {
      "cell_type": "code",
      "source": [
        "count = 5\n",
        "while True:\n",
        "    if count == 0:\n",
        "        break\n",
        "    print(f\"  {count}...\")\n",
        "    count -= 1\n",
        "print(\"  발사!\")\n",
        "print()"
      ],
      "metadata": {
        "colab": {
          "base_uri": "https://localhost:8080/"
        },
        "id": "mvYzYfQU7rR1",
        "outputId": "f9758221-49c5-45e5-f879-6095796aa677"
      },
      "execution_count": null,
      "outputs": [
        {
          "output_type": "stream",
          "name": "stdout",
          "text": [
            "  5...\n",
            "  4...\n",
            "  3...\n",
            "  2...\n",
            "  1...\n",
            "  발사!\n",
            "\n"
          ]
        }
      ]
    },
    {
      "cell_type": "markdown",
      "source": [
        "### 3-8. 함수 정의와 사용"
      ],
      "metadata": {
        "id": "flpz7uDW7F5v"
      }
    },
    {
      "cell_type": "code",
      "source": [
        "print(\"=== 8. 함수 만들기 ===\")\n",
        "\n",
        "def greet(name, age=20):\n",
        "    \"\"\"인사말을 만드는 함수\"\"\"\n",
        "    return f\"안녕하세요! {name}님, {age}세이시네요.\"\n",
        "\n",
        "def calculate_bmi(weight, height):\n",
        "    \"\"\"BMI를 계산하는 함수\"\"\"\n",
        "    bmi = weight / (height/100) ** 2\n",
        "    return round(bmi, 1)\n",
        "\n",
        "# 함수 사용\n",
        "message1 = greet(\"김하나\")\n",
        "message2 = greet(\"이둘\", 25)\n",
        "print(message1)\n",
        "print(message2)\n",
        "\n",
        "bmi = calculate_bmi(70, 175)\n",
        "print(f\"BMI: {bmi}\")\n",
        "print()"
      ],
      "metadata": {
        "colab": {
          "base_uri": "https://localhost:8080/"
        },
        "id": "R0_VKdqf7GAf",
        "outputId": "6bf42a8a-01e9-4232-db4d-70b6ef3cfdf8"
      },
      "execution_count": null,
      "outputs": [
        {
          "output_type": "stream",
          "name": "stdout",
          "text": [
            "=== 8. 함수 만들기 ===\n",
            "안녕하세요! 김하나님, 20세이시네요.\n",
            "안녕하세요! 이둘님, 25세이시네요.\n",
            "BMI: 22.9\n",
            "\n"
          ]
        }
      ]
    },
    {
      "cell_type": "markdown",
      "source": [
        "### 3-9. 리스트 컴프리헨션"
      ],
      "metadata": {
        "id": "NsgNyGBi7GJF"
      }
    },
    {
      "cell_type": "code",
      "source": [
        "print(\"=== 9. 리스트 컴프리헨션 ===\")\n",
        "\n",
        "# 1부터 10까지의 제곱수\n",
        "'''\n",
        "squares = []\n",
        "for x in range(1, 11):\n",
        "    squares.append(x**2)\n",
        "'''\n",
        "squares = [x**2 for x in range(1, 11)]\n",
        "print(f\"1~10의 제곱: {squares}\")\n",
        "\n",
        "# 짝수만 필터링\n",
        "'''\n",
        "numbers = [1, 2, 3, 4, 5, 6, 7, 8, 9, 10]\n",
        "even_numbers = []\n",
        "for x in numbers:\n",
        "    if x % 2 == 0:\n",
        "        even_numbers.append(x)\n",
        "'''\n",
        "numbers = [1, 2, 3, 4, 5, 6, 7, 8, 9, 10]\n",
        "even_numbers = [x for x in numbers if x % 2 == 0]\n",
        "print(f\"짝수만: {even_numbers}\")\n",
        "\n",
        "# 문자열 처리\n",
        "names = [\"kim\", \"lee\", \"park\", \"choi\"]\n",
        "upper_names = [name.upper() for name in names]\n",
        "print(f\"대문자 이름: {upper_names}\")\n",
        "print()"
      ],
      "metadata": {
        "colab": {
          "base_uri": "https://localhost:8080/"
        },
        "id": "AYpsNR527GQY",
        "outputId": "420a793e-2adb-43a1-bb43-b05f7194313d"
      },
      "execution_count": null,
      "outputs": [
        {
          "output_type": "stream",
          "name": "stdout",
          "text": [
            "=== 9. 리스트 컴프리헨션 ===\n",
            "1~10의 제곱: [1, 4, 9, 16, 25, 36, 49, 64, 81, 100]\n",
            "짝수만: [2, 4, 6, 8, 10]\n",
            "대문자 이름: ['KIM', 'LEE', 'PARK', 'CHOI']\n",
            "\n"
          ]
        }
      ]
    },
    {
      "cell_type": "markdown",
      "source": [
        "### 3-10. 예외 처리 (try-except)"
      ],
      "metadata": {
        "id": "OnLRBhSD-nPI"
      }
    },
    {
      "cell_type": "code",
      "source": [
        "print(\"=== 10. 예외 처리 ===\")\n",
        "\n",
        "def safe_divide(a, b):\n",
        "    try:\n",
        "        result = a / b\n",
        "        return f\"{a} ÷ {b} = {result}\"\n",
        "    except ZeroDivisionError:\n",
        "        return \"오류: 0으로 나눌 수 없습니다!\"\n",
        "    except Exception as e:\n",
        "        return f\"예상치 못한 오류: {e}\"\n",
        "\n",
        "print(safe_divide(10, 2))\n",
        "print(safe_divide(10, 0))\n",
        "print(safe_divide(10, '0'))\n",
        "\n",
        "# 숫자 입력 검증\n",
        "def get_number(text):\n",
        "    try:\n",
        "        number = int(text)\n",
        "        return number\n",
        "    except ValueError:\n",
        "        return f\"'{text}'는 숫자가 아닙니다!\"\n",
        "\n",
        "print(get_number(\"123\"))\n",
        "print(get_number(\"abc\"))\n",
        "print()"
      ],
      "metadata": {
        "colab": {
          "base_uri": "https://localhost:8080/"
        },
        "id": "DlTJybgY-nah",
        "outputId": "c2d0b07e-abf8-4620-b922-878c082ca46d"
      },
      "execution_count": null,
      "outputs": [
        {
          "output_type": "stream",
          "name": "stdout",
          "text": [
            "=== 10. 예외 처리 ===\n",
            "10 ÷ 2 = 5.0\n",
            "오류: 0으로 나눌 수 없습니다!\n",
            "예상치 못한 오류: unsupported operand type(s) for /: 'int' and 'str'\n",
            "123\n",
            "'abc'는 숫자가 아닙니다!\n",
            "\n"
          ]
        }
      ]
    },
    {
      "cell_type": "markdown",
      "source": [
        "### 3-11. 파일 읽기/쓰기"
      ],
      "metadata": {
        "id": "_Ych3qZC-nj4"
      }
    },
    {
      "cell_type": "code",
      "source": [
        "print(\"=== 11. 파일 다루기 ===\")\n",
        "\n",
        "# 파일에 쓰기\n",
        "filename = \"sample.txt\"\n",
        "data = [\"첫 번째 줄\", \"두 번째 줄\", \"세 번째 줄\"]\n",
        "\n",
        "try:\n",
        "    with open(filename, 'w', encoding='utf-8') as file:\n",
        "        for line in data:\n",
        "            file.write(line + '\\n')\n",
        "    print(f\"'{filename}' 파일에 데이터를 저장했습니다.\")\n",
        "\n",
        "    # 파일 읽기\n",
        "    with open(filename, 'r', encoding='utf-8') as file:\n",
        "        content = file.read()\n",
        "        print(\"파일 내용:\")\n",
        "        print(content)\n",
        "\n",
        "except FileNotFoundError:\n",
        "    print(\"파일을 찾을 수 없습니다.\")\n",
        "except Exception as e:\n",
        "    print(f\"파일 처리 중 오류: {e}\")\n",
        "print()"
      ],
      "metadata": {
        "colab": {
          "base_uri": "https://localhost:8080/"
        },
        "id": "iMCCSjd--ntQ",
        "outputId": "c566d081-c7b3-48cc-97ef-b3c9b196a56a"
      },
      "execution_count": null,
      "outputs": [
        {
          "output_type": "stream",
          "name": "stdout",
          "text": [
            "=== 11. 파일 다루기 ===\n",
            "'sample.txt' 파일에 데이터를 저장했습니다.\n",
            "파일 내용:\n",
            "첫 번째 줄\n",
            "두 번째 줄\n",
            "세 번째 줄\n",
            "\n",
            "\n"
          ]
        }
      ]
    },
    {
      "cell_type": "code",
      "source": [
        "print(\"=== 12. 클래스 만들기 ===\")\n",
        "\n",
        "class Dog:\n",
        "    def __init__(self, name, breed, age):\n",
        "        self.name = name\n",
        "        self.breed = breed\n",
        "        self.age = age\n",
        "        self.energy = 100\n",
        "\n",
        "    def bark(self):\n",
        "        return f\"{self.name}: 멍멍!\"\n",
        "\n",
        "    def play(self):\n",
        "        if self.energy > 20:\n",
        "            self.energy -= 20\n",
        "            return f\"{self.name}가 신나게 놀고 있어요! (에너지: {self.energy})\"\n",
        "        else:\n",
        "            return f\"{self.name}는 너무 피곤해요...\"\n",
        "\n",
        "    def sleep(self):\n",
        "        self.energy = 100\n",
        "        return f\"{self.name}가 잠을 자고 에너지를 회복했어요!\"\n",
        "\n",
        "# 객체 생성 및 사용\n",
        "my_dog = Dog(\"바둑이\", \"골든 리트리버\", 3)\n",
        "print(f\"강아지 이름: {my_dog.name}, 품종: {my_dog.breed}\")\n",
        "print(my_dog.bark())\n",
        "print(my_dog.play())\n",
        "print(my_dog.play())\n",
        "print(my_dog.sleep())\n",
        "print()\n"
      ],
      "metadata": {
        "colab": {
          "base_uri": "https://localhost:8080/"
        },
        "id": "6sHhdolc74vb",
        "outputId": "fcb53cf3-da4b-4c7a-b9e6-cd40b030fb78"
      },
      "execution_count": 1,
      "outputs": [
        {
          "output_type": "stream",
          "name": "stdout",
          "text": [
            "=== 12. 클래스 만들기 ===\n",
            "강아지 이름: 바둑이, 품종: 골든 리트리버\n",
            "바둑이: 멍멍!\n",
            "바둑이가 신나게 놀고 있어요! (에너지: 80)\n",
            "바둑이가 신나게 놀고 있어요! (에너지: 60)\n",
            "바둑이가 잠을 자고 에너지를 회복했어요!\n",
            "\n"
          ]
        }
      ]
    },
    {
      "cell_type": "code",
      "source": [
        "print(\"=== 13. 모듈 사용하기 ===\")\n",
        "\n",
        "import random\n",
        "import datetime\n",
        "\n",
        "# 랜덤 숫자 생성\n",
        "random_number = random.randint(1, 100)\n",
        "print(f\"랜덤 숫자: {random_number}\")\n",
        "\n",
        "# 리스트에서 랜덤 선택\n",
        "colors = [\"빨강\", \"파랑\", \"노랑\", \"초록\", \"보라\"]\n",
        "random_color = random.choice(colors)\n",
        "print(f\"오늘의 추천 색상: {random_color}\")\n",
        "\n",
        "# 현재 날짜와 시간\n",
        "now = datetime.datetime.now()\n",
        "print(f\"현재 시간: {now.strftime('%Y년 %m월 %d일 %H시 %M분')}\")\n",
        "print()\n"
      ],
      "metadata": {
        "colab": {
          "base_uri": "https://localhost:8080/"
        },
        "id": "XtbPEUxA8SP5",
        "outputId": "57cac3cd-1010-455f-98da-97ced8bb7450"
      },
      "execution_count": 2,
      "outputs": [
        {
          "output_type": "stream",
          "name": "stdout",
          "text": [
            "=== 13. 모듈 사용하기 ===\n",
            "랜덤 숫자: 91\n",
            "오늘의 추천 색상: 보라\n",
            "현재 시간: 2025년 07월 24일 01시 01분\n",
            "\n"
          ]
        }
      ]
    },
    {
      "cell_type": "code",
      "source": [
        "print(\"=== 14. 람다와 내장함수 ===\")\n",
        "\n",
        "# 숫자 리스트\n",
        "numbers = [1, 2, 3, 4, 5, 6, 7, 8, 9, 10]\n",
        "\n",
        "# map: 모든 요소에 함수 적용\n",
        "squared = list(map(lambda x: x**2, numbers))\n",
        "print(f\"제곱: {squared}\")\n",
        "\n",
        "# filter: 조건에 맞는 요소만 선택\n",
        "evens = list(filter(lambda x: x % 2 == 0, numbers))\n",
        "print(f\"짝수: {evens}\")\n",
        "\n",
        "# sorted: 정렬\n",
        "students_scores = [(\"김철수\", 85), (\"이영희\", 92), (\"박민수\", 78), (\"정지혜\", 96)]\n",
        "sorted_by_score = sorted(students_scores, key=lambda x: x[1], reverse=True)\n",
        "print(\"성적 순 정렬:\")\n",
        "for name, score in sorted_by_score:\n",
        "    print(f\"  {name}: {score}점\")\n",
        "print()\n"
      ],
      "metadata": {
        "colab": {
          "base_uri": "https://localhost:8080/"
        },
        "id": "WU1Ngwzb83da",
        "outputId": "b1970382-91eb-4d8a-9bf8-5fed5bbc16e0"
      },
      "execution_count": 3,
      "outputs": [
        {
          "output_type": "stream",
          "name": "stdout",
          "text": [
            "=== 14. 람다와 내장함수 ===\n",
            "제곱: [1, 4, 9, 16, 25, 36, 49, 64, 81, 100]\n",
            "짝수: [2, 4, 6, 8, 10]\n",
            "성적 순 정렬:\n",
            "  정지혜: 96점\n",
            "  이영희: 92점\n",
            "  김철수: 85점\n",
            "  박민수: 78점\n",
            "\n"
          ]
        }
      ]
    },
    {
      "cell_type": "code",
      "source": [
        "print(\"=== 15. 실전 예제: 간단한 가계부 ===\")\n",
        "\n",
        "class SimpleWallet:\n",
        "    def __init__(self, initial_money=0):\n",
        "        self.balance = initial_money\n",
        "        self.transactions = []\n",
        "\n",
        "    def add_money(self, amount, description=\"입금\"):\n",
        "        self.balance += amount\n",
        "        self.transactions.append({\n",
        "            'type': '입금',\n",
        "            'amount': amount,\n",
        "            'description': description,\n",
        "            'balance': self.balance\n",
        "        })\n",
        "        return f\"{amount}원이 입금되었습니다. 잔액: {self.balance}원\"\n",
        "\n",
        "    def spend_money(self, amount, description=\"지출\"):\n",
        "        if amount > self.balance:\n",
        "            return f\"잔액이 부족합니다! 현재 잔액: {self.balance}원\"\n",
        "\n",
        "        self.balance -= amount\n",
        "        self.transactions.append({\n",
        "            'type': '지출',\n",
        "            'amount': amount,\n",
        "            'description': description,\n",
        "            'balance': self.balance\n",
        "        })\n",
        "        return f\"{amount}원이 지출되었습니다. 잔액: {self.balance}원\"\n",
        "\n",
        "    def get_summary(self):\n",
        "        total_income = sum(t['amount'] for t in self.transactions if t['type'] == '입금')\n",
        "        total_expense = sum(t['amount'] for t in self.transactions if t['type'] == '지출')\n",
        "\n",
        "        return {\n",
        "            'current_balance': self.balance,\n",
        "            'total_income': total_income,\n",
        "            'total_expense': total_expense,\n",
        "            'transaction_count': len(self.transactions)\n",
        "        }\n",
        "\n",
        "    def show_transactions(self):\n",
        "        if not self.transactions:\n",
        "            return \"거래 내역이 없습니다.\"\n",
        "\n",
        "        result = \"=== 거래 내역 ===\\n\"\n",
        "        for i, transaction in enumerate(self.transactions, 1):\n",
        "            result += f\"{i}. {transaction['type']} {transaction['amount']:,}원 \"\n",
        "            result += f\"({transaction['description']}) - 잔액: {transaction['balance']:,}원\\n\"\n",
        "        return result\n",
        "\n",
        "# 가계부 사용 예제\n",
        "wallet = SimpleWallet(50000)  # 초기 금액 5만원\n",
        "print(\"초기 잔액: 50,000원\")\n",
        "\n",
        "print(wallet.add_money(100000, \"월급\"))\n",
        "print(wallet.spend_money(15000, \"점심\"))\n",
        "print(wallet.spend_money(50000, \"쇼핑\"))\n",
        "print(wallet.add_money(20000, \"용돈\"))\n",
        "print(wallet.spend_money(200000, \"여행\"))  # 잔액 부족\n",
        "\n",
        "print(\"\\n\" + wallet.show_transactions())\n",
        "\n",
        "summary = wallet.get_summary()\n",
        "print(f\"=== 가계부 요약 ===\")\n",
        "print(f\"현재 잔액: {summary['current_balance']:,}원\")\n",
        "print(f\"총 수입: {summary['total_income']:,}원\")\n",
        "print(f\"총 지출: {summary['total_expense']:,}원\")\n",
        "print(f\"거래 횟수: {summary['transaction_count']}회\")\n",
        "\n",
        "print(\"\\n🎉 파이썬 핵심 문법 15가지 예제를 모두 완료했습니다!\")\n",
        "print(\"이제 이 예제들을 바탕으로 더 복잡한 프로그램을 만들어보세요!\")\n",
        "\n"
      ],
      "metadata": {
        "colab": {
          "base_uri": "https://localhost:8080/"
        },
        "id": "4OrTGgy09ENL",
        "outputId": "6f4f25b2-90ec-47b9-d4c4-104ac2d9bf98"
      },
      "execution_count": 6,
      "outputs": [
        {
          "output_type": "stream",
          "name": "stdout",
          "text": [
            "=== 15. 실전 예제: 간단한 가계부 ===\n",
            "초기 잔액: 50,000원\n",
            "100000원이 입금되었습니다. 잔액: 150000원\n",
            "15000원이 지출되었습니다. 잔액: 135000원\n",
            "50000원이 지출되었습니다. 잔액: 85000원\n",
            "20000원이 입금되었습니다. 잔액: 105000원\n",
            "잔액이 부족합니다! 현재 잔액: 105000원\n",
            "\n",
            "=== 거래 내역 ===\n",
            "1. 입금 100,000원 (월급) - 잔액: 150,000원\n",
            "2. 지출 15,000원 (점심) - 잔액: 135,000원\n",
            "3. 지출 50,000원 (쇼핑) - 잔액: 85,000원\n",
            "4. 입금 20,000원 (용돈) - 잔액: 105,000원\n",
            "\n",
            "=== 가계부 요약 ===\n",
            "현재 잔액: 105,000원\n",
            "총 수입: 120,000원\n",
            "총 지출: 65,000원\n",
            "거래 횟수: 4회\n",
            "\n",
            "🎉 파이썬 핵심 문법 15가지 예제를 모두 완료했습니다!\n",
            "이제 이 예제들을 바탕으로 더 복잡한 프로그램을 만들어보세요!\n"
          ]
        }
      ]
    },
    {
      "cell_type": "code",
      "source": [
        "numbers = [1, 2, 3, 4, 5, 6, 7, 8, 9, 10]\n",
        "ans=[]\n",
        "for x in numbers:\n",
        "    ans.append(x**2)\n",
        "print(ans)"
      ],
      "metadata": {
        "colab": {
          "base_uri": "https://localhost:8080/"
        },
        "id": "PBhl6WqG-ubf",
        "outputId": "49f8c9be-0ebc-48ba-b273-93fad2821a95"
      },
      "execution_count": 11,
      "outputs": [
        {
          "output_type": "stream",
          "name": "stdout",
          "text": [
            "[1, 4, 9, 16, 25, 36, 49, 64, 81, 100]\n"
          ]
        }
      ]
    }
  ]
}